{
 "cells": [
  {
   "cell_type": "code",
   "execution_count": 3,
   "metadata": {},
   "outputs": [],
   "source": [
    "import pandas as pd\n",
    "import os\n",
    "import numpy as np\n",
    "import matplotlib.pyplot as plt\n",
    "import seaborn as sns"
   ]
  },
  {
   "cell_type": "code",
   "execution_count": 10,
   "metadata": {},
   "outputs": [],
   "source": [
    "def combine_datasets(path, substring):\n",
    "    files = [f for f in os.listdir(path) if substring in f and f.endswith('.csv')]\n",
    "    \n",
    "    if not files:\n",
    "        print(f\"No files containing the substring '{substring}' were found.\")\n",
    "        return None\n",
    "    \n",
    "    dataframe_list = []\n",
    "    for file in files:\n",
    "        file_path = os.path.join(path, file)\n",
    "        df = pd.read_csv(file_path)\n",
    "        dataframe_list.append(df)\n",
    "    \n",
    "    combined_df = pd.concat(dataframe_list, ignore_index=True)\n",
    "    return combined_df\n",
    "\n",
    "path = '../datasets/pos-process'\n",
    "dataframes_by_source = {}\n",
    "\n",
    "for dirs, root, files in os.walk(path):\n",
    "    for file in files:\n",
    "        if file.endswith('.csv'):\n",
    "            source = '-' + file.split('-')[2] + '-'\n",
    "            df = combine_datasets(path, source)\n",
    "            \n",
    "            if df is not None:\n",
    "                key_name = f\"{source.strip('-')}\" \n",
    "                dataframes_by_source[key_name] = df"
   ]
  },
  {
   "cell_type": "code",
   "execution_count": 13,
   "metadata": {},
   "outputs": [
    {
     "name": "stdout",
     "output_type": "stream",
     "text": [
      "Correlation between high RMSE and dataset variance for each model:\n",
      "RandomForestRegressor: 0.990\n",
      "LinearRegression: 0.995\n",
      "PolynomialRegression: 0.991\n",
      "GradientBoostingRegressor: 0.992\n",
      "AdaBoostRegressor: 0.990\n",
      "XGBRegressor: 0.992\n",
      "MLPRegressor: 0.864\n",
      "ElasticNet: 0.995\n",
      "KNeighborsRegressor: 0.991\n",
      "CatBoostRegressor: 0.992\n",
      "LGBMRegressor: 0.990\n",
      "SVR: 0.997\n",
      "0.9815654200293608\n"
     ]
    }
   ],
   "source": [
    "\n",
    "rmse_bbr =pd.read_csv('../results/nrmse/regression_Vazao_bbr_nrmse.csv')\n",
    "\n",
    "protocol = 'Vazao_bbr'\n",
    "rmse = rmse_bbr\n",
    "\n",
    "correlations_by_model = {}\n",
    "variances = {}\n",
    "\n",
    "for key, value in dataframes_by_source.items():\n",
    "    dataset = dataframes_by_source[key]\n",
    "    variance_coef = (dataset[protocol].std() / dataset[protocol].mean()) * 100\n",
    "    variances[key] = variance_coef\n",
    "\n",
    "models = rmse.columns[1:]\n",
    "\n",
    "for model in models:\n",
    "    df_model = pd.DataFrame({\n",
    "        'Source': rmse['source'],\n",
    "        'RMSE': rmse[model],\n",
    "        'Variance_coef': rmse['source'].map(lambda x: variances[x])  \n",
    "    })\n",
    "    correlation = df_model[['RMSE', 'Variance_coef']].corr().iloc[0, 1]\n",
    "    correlations_by_model[model] = correlation\n",
    "\n",
    "# Exibindo as correlações\n",
    "print(\"Correlation between high RMSE and dataset variance for each model:\")\n",
    "for model, correlation in correlations_by_model.items():\n",
    "    print(f\"{model}: {correlation:.3f}\")\n",
    "sum = 0\n",
    "for model, correlation in correlations_by_model.items():\n",
    "    sum+=correlation\n",
    "print(sum/12)"
   ]
  },
  {
   "cell_type": "code",
   "execution_count": 14,
   "metadata": {},
   "outputs": [
    {
     "name": "stdout",
     "output_type": "stream",
     "text": [
      "\n",
      "Estatísticas Descritivas do NRMSE por Modelo:\n",
      "                           Média  Mediana  Desvio Padrão  Mínimo  Máximo\n",
      "Model                                                                   \n",
      "AdaBoostRegressor          0.268    0.059          0.323   0.036   0.936\n",
      "CatBoostRegressor          0.222    0.051          0.262   0.031   0.705\n",
      "ElasticNet                 0.293    0.061          0.361   0.038   1.019\n",
      "GradientBoostingRegressor  0.231    0.051          0.274   0.032   0.738\n",
      "KNeighborsRegressor        0.247    0.057          0.287   0.036   0.775\n",
      "LGBMRegressor              0.224    0.051          0.263   0.032   0.720\n",
      "LinearRegression           0.293    0.061          0.361   0.038   1.019\n",
      "MLPRegressor               0.344    0.092          0.361   0.038   1.038\n",
      "PolynomialRegression       0.271    0.056          0.326   0.036   0.931\n",
      "RandomForestRegressor      0.228    0.052          0.267   0.032   0.722\n",
      "SVR                        0.355    0.066          0.444   0.040   1.258\n",
      "XGBRegressor               0.229    0.052          0.270   0.032   0.730\n"
     ]
    }
   ],
   "source": [
    "#estatistica descritiva do nrmse por modelo\n",
    "\n",
    "pd.set_option('display.float_format', lambda x: '%.3f' % x)\n",
    "\n",
    "rmse_melted = rmse.melt(id_vars=['source'], \n",
    "                        var_name='Model', \n",
    "                        value_name='RMSE')\n",
    "rmse_stats = rmse_melted.groupby('Model')['RMSE'].agg([\n",
    "    ('Média', 'mean'),\n",
    "    ('Mediana', 'median'),\n",
    "    ('Desvio Padrão', 'std'),\n",
    "    ('Mínimo', 'min'),\n",
    "    ('Máximo', 'max')\n",
    "]).round(4)\n",
    "\n",
    "print(\"\\nEstatísticas Descritivas do NRMSE por Modelo:\")\n",
    "print(rmse_stats.to_string())\n",
    "\n"
   ]
  }
 ],
 "metadata": {
  "kernelspec": {
   "display_name": ".venv",
   "language": "python",
   "name": "python3"
  },
  "language_info": {
   "codemirror_mode": {
    "name": "ipython",
    "version": 3
   },
   "file_extension": ".py",
   "mimetype": "text/x-python",
   "name": "python",
   "nbconvert_exporter": "python",
   "pygments_lexer": "ipython3",
   "version": "3.12.8"
  }
 },
 "nbformat": 4,
 "nbformat_minor": 2
}
